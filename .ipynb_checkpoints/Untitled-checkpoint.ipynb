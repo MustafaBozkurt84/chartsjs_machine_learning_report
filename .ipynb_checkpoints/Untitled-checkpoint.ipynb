{
 "cells": [
  {
   "cell_type": "code",
   "execution_count": 1,
   "id": "middle-purple",
   "metadata": {},
   "outputs": [],
   "source": [
    "import pandas as pd"
   ]
  },
  {
   "cell_type": "code",
   "execution_count": 18,
   "id": "patent-weather",
   "metadata": {},
   "outputs": [
    {
     "data": {
      "text/html": [
       "<div>\n",
       "<style scoped>\n",
       "    .dataframe tbody tr th:only-of-type {\n",
       "        vertical-align: middle;\n",
       "    }\n",
       "\n",
       "    .dataframe tbody tr th {\n",
       "        vertical-align: top;\n",
       "    }\n",
       "\n",
       "    .dataframe thead th {\n",
       "        text-align: right;\n",
       "    }\n",
       "</style>\n",
       "<table border=\"1\" class=\"dataframe\">\n",
       "  <thead>\n",
       "    <tr style=\"text-align: right;\">\n",
       "      <th></th>\n",
       "      <th>Feature</th>\n",
       "      <th>Individual_Feature_Importance</th>\n",
       "      <th>Pearson_Correlation</th>\n",
       "      <th>Spearman_Correlation</th>\n",
       "      <th>Kendall_Correlation</th>\n",
       "    </tr>\n",
       "  </thead>\n",
       "  <tbody>\n",
       "    <tr>\n",
       "      <th>0</th>\n",
       "      <td>saving_ratio_equal_frequency</td>\n",
       "      <td>0.785872</td>\n",
       "      <td>0.398174</td>\n",
       "      <td>0.395500</td>\n",
       "      <td>0.338785</td>\n",
       "    </tr>\n",
       "    <tr>\n",
       "      <th>1</th>\n",
       "      <td>saving_ratio_reciprocal</td>\n",
       "      <td>0.757642</td>\n",
       "      <td>-0.153609</td>\n",
       "      <td>-0.402766</td>\n",
       "      <td>-0.331451</td>\n",
       "    </tr>\n",
       "    <tr>\n",
       "      <th>2</th>\n",
       "      <td>account_check_status_no checking account</td>\n",
       "      <td>0.669442</td>\n",
       "      <td>-0.317860</td>\n",
       "      <td>-0.317860</td>\n",
       "      <td>-0.317860</td>\n",
       "    </tr>\n",
       "    <tr>\n",
       "      <th>3</th>\n",
       "      <td>credit_history_mean_encoder</td>\n",
       "      <td>0.640718</td>\n",
       "      <td>0.282946</td>\n",
       "      <td>0.261876</td>\n",
       "      <td>0.246177</td>\n",
       "    </tr>\n",
       "    <tr>\n",
       "      <th>4</th>\n",
       "      <td>account_check_status_&lt; 0 DM</td>\n",
       "      <td>0.632852</td>\n",
       "      <td>0.272951</td>\n",
       "      <td>0.272951</td>\n",
       "      <td>0.272951</td>\n",
       "    </tr>\n",
       "    <tr>\n",
       "      <th>5</th>\n",
       "      <td>duration_in_month_equal_frequency</td>\n",
       "      <td>0.621855</td>\n",
       "      <td>0.198116</td>\n",
       "      <td>0.192809</td>\n",
       "      <td>0.168880</td>\n",
       "    </tr>\n",
       "    <tr>\n",
       "      <th>6</th>\n",
       "      <td>credit_history_critical account/ other credits...</td>\n",
       "      <td>0.609435</td>\n",
       "      <td>-0.223485</td>\n",
       "      <td>-0.223485</td>\n",
       "      <td>-0.223485</td>\n",
       "    </tr>\n",
       "    <tr>\n",
       "      <th>7</th>\n",
       "      <td>purpose_ordinal_encoder</td>\n",
       "      <td>0.591671</td>\n",
       "      <td>0.188018</td>\n",
       "      <td>0.197574</td>\n",
       "      <td>0.175703</td>\n",
       "    </tr>\n",
       "    <tr>\n",
       "      <th>8</th>\n",
       "      <td>purpose_count_frequency</td>\n",
       "      <td>0.591671</td>\n",
       "      <td>-0.035629</td>\n",
       "      <td>-0.059320</td>\n",
       "      <td>-0.052754</td>\n",
       "    </tr>\n",
       "    <tr>\n",
       "      <th>9</th>\n",
       "      <td>savings_... &lt; 100 DM</td>\n",
       "      <td>0.588983</td>\n",
       "      <td>0.166764</td>\n",
       "      <td>0.166764</td>\n",
       "      <td>0.166764</td>\n",
       "    </tr>\n",
       "    <tr>\n",
       "      <th>10</th>\n",
       "      <td>property_count_frequency</td>\n",
       "      <td>0.579111</td>\n",
       "      <td>-0.085180</td>\n",
       "      <td>-0.068720</td>\n",
       "      <td>-0.063018</td>\n",
       "    </tr>\n",
       "    <tr>\n",
       "      <th>11</th>\n",
       "      <td>property_ordinal_encoder</td>\n",
       "      <td>0.579111</td>\n",
       "      <td>0.139351</td>\n",
       "      <td>0.137370</td>\n",
       "      <td>0.125973</td>\n",
       "    </tr>\n",
       "    <tr>\n",
       "      <th>12</th>\n",
       "      <td>housing_own</td>\n",
       "      <td>0.566361</td>\n",
       "      <td>-0.132355</td>\n",
       "      <td>-0.132355</td>\n",
       "      <td>-0.132355</td>\n",
       "    </tr>\n",
       "    <tr>\n",
       "      <th>13</th>\n",
       "      <td>property_real estate</td>\n",
       "      <td>0.557934</td>\n",
       "      <td>-0.118307</td>\n",
       "      <td>-0.118307</td>\n",
       "      <td>-0.118307</td>\n",
       "    </tr>\n",
       "    <tr>\n",
       "      <th>14</th>\n",
       "      <td>savings_unknown/ no savings account</td>\n",
       "      <td>0.554096</td>\n",
       "      <td>-0.126426</td>\n",
       "      <td>-0.126426</td>\n",
       "      <td>-0.126426</td>\n",
       "    </tr>\n",
       "    <tr>\n",
       "      <th>15</th>\n",
       "      <td>purpose_domestic appliances</td>\n",
       "      <td>0.552497</td>\n",
       "      <td>-0.107158</td>\n",
       "      <td>-0.107158</td>\n",
       "      <td>-0.107158</td>\n",
       "    </tr>\n",
       "  </tbody>\n",
       "</table>\n",
       "</div>"
      ],
      "text/plain": [
       "                                              Feature  \\\n",
       "0                        saving_ratio_equal_frequency   \n",
       "1                             saving_ratio_reciprocal   \n",
       "2            account_check_status_no checking account   \n",
       "3                         credit_history_mean_encoder   \n",
       "4                         account_check_status_< 0 DM   \n",
       "5                   duration_in_month_equal_frequency   \n",
       "6   credit_history_critical account/ other credits...   \n",
       "7                             purpose_ordinal_encoder   \n",
       "8                             purpose_count_frequency   \n",
       "9                                savings_... < 100 DM   \n",
       "10                           property_count_frequency   \n",
       "11                           property_ordinal_encoder   \n",
       "12                                        housing_own   \n",
       "13                               property_real estate   \n",
       "14                savings_unknown/ no savings account   \n",
       "15                        purpose_domestic appliances   \n",
       "\n",
       "    Individual_Feature_Importance  Pearson_Correlation  Spearman_Correlation  \\\n",
       "0                        0.785872             0.398174              0.395500   \n",
       "1                        0.757642            -0.153609             -0.402766   \n",
       "2                        0.669442            -0.317860             -0.317860   \n",
       "3                        0.640718             0.282946              0.261876   \n",
       "4                        0.632852             0.272951              0.272951   \n",
       "5                        0.621855             0.198116              0.192809   \n",
       "6                        0.609435            -0.223485             -0.223485   \n",
       "7                        0.591671             0.188018              0.197574   \n",
       "8                        0.591671            -0.035629             -0.059320   \n",
       "9                        0.588983             0.166764              0.166764   \n",
       "10                       0.579111            -0.085180             -0.068720   \n",
       "11                       0.579111             0.139351              0.137370   \n",
       "12                       0.566361            -0.132355             -0.132355   \n",
       "13                       0.557934            -0.118307             -0.118307   \n",
       "14                       0.554096            -0.126426             -0.126426   \n",
       "15                       0.552497            -0.107158             -0.107158   \n",
       "\n",
       "    Kendall_Correlation  \n",
       "0              0.338785  \n",
       "1             -0.331451  \n",
       "2             -0.317860  \n",
       "3              0.246177  \n",
       "4              0.272951  \n",
       "5              0.168880  \n",
       "6             -0.223485  \n",
       "7              0.175703  \n",
       "8             -0.052754  \n",
       "9              0.166764  \n",
       "10            -0.063018  \n",
       "11             0.125973  \n",
       "12            -0.132355  \n",
       "13            -0.118307  \n",
       "14            -0.126426  \n",
       "15            -0.107158  "
      ]
     },
     "execution_count": 18,
     "metadata": {},
     "output_type": "execute_result"
    }
   ],
   "source": [
    "feature_importance = pd.read_csv(\"feature_importance-2021-03-29-14-28.csv\")\n",
    "feature_importance"
   ]
  },
  {
   "cell_type": "code",
   "execution_count": 3,
   "id": "hispanic-scott",
   "metadata": {},
   "outputs": [],
   "source": [
    "permutation_feature_importance= pd.read_csv(\"permutation_feature_importance-2021-03-29-14-29.csv\")"
   ]
  },
  {
   "cell_type": "code",
   "execution_count": 4,
   "id": "divine-abraham",
   "metadata": {},
   "outputs": [],
   "source": [
    "prediction_output = pd.read_csv(\"predictions_output-2021-03-29-14-30.csv\")"
   ]
  },
  {
   "cell_type": "code",
   "execution_count": 5,
   "id": "sorted-independence",
   "metadata": {},
   "outputs": [],
   "source": [
    "summary_df = pd.read_csv(\"summary_df-2021-03-29-14-27.csv\")"
   ]
  },
  {
   "cell_type": "code",
   "execution_count": 6,
   "id": "annoying-relevance",
   "metadata": {},
   "outputs": [],
   "source": [
    "accuracy_report = pd.read_csv(\"accuracy_report-2021-03-29-14-28.csv\")"
   ]
  },
  {
   "cell_type": "code",
   "execution_count": 14,
   "id": "laughing-visiting",
   "metadata": {},
   "outputs": [],
   "source": [
    "my_dict={}\n",
    "dataframelist=[feature_importance,permutation_feature_importance,prediction_output,summary_df,accuracy_report]\n",
    "for l in dataframelist:\n",
    "        for i in l.columns:\n",
    "             my_dict[i]= list(l[i])"
   ]
  },
  {
   "cell_type": "code",
   "execution_count": 9,
   "id": "surprising-giant",
   "metadata": {},
   "outputs": [
    {
     "name": "stdout",
     "output_type": "stream",
     "text": [
      "Individual_Feature_Importance\n",
      "Pearson_Correlation\n",
      "Spearman_Correlation\n",
      "Kendall_Correlation\n"
     ]
    }
   ],
   "source": [
    "for i in feature_importance.columns[1:5]:\n",
    "    print(i)"
   ]
  },
  {
   "cell_type": "code",
   "execution_count": 17,
   "id": "alike-swift",
   "metadata": {},
   "outputs": [
    {
     "data": {
      "text/plain": [
       "dict_keys(['Feature', 'Individual_Feature_Importance', 'Pearson_Correlation', 'Spearman_Correlation', 'Kendall_Correlation', 'Permutation_Importance_Train', 'Permutation_Importance_Test', 'Permutation_Importance_Std_Train', 'Permutation_Importance_Std_Test', 'saving_ratio_original', 'account_check_status_original', 'duration_in_month_original', 'credit_history_original', 'purpose_original', 'savings_original', 'property_original', 'housing_original', 'ID', 'saving_ratio_equal_frequency', 'duration_in_month_equal_frequency', 'saving_ratio_reciprocal', 'account_check_status_no checking account', 'account_check_status_< 0 DM', 'credit_history_critical account/ other credits existing (not at this bank)', 'purpose_domestic appliances', 'savings_... < 100 DM', 'savings_unknown/ no savings account', 'property_real estate', 'housing_own', 'purpose_count_frequency', 'property_count_frequency', 'purpose_ordinal_encoder', 'property_ordinal_encoder', 'credit_history_mean_encoder', 'predictions', 'predictions_binary', 'Column_Name', 'Unique_Data', 'Missing_Data', 'Missing_Percentage', 'Data_Types', 'Count', 'Mean', 'Std', 'Min', '25%', '50%', '75%', 'Max', 'TP', 'TN', 'FP', 'FN', 'Sensitivity', 'Specificity', 'Accuracy', 'Total_observations', 'Precision', 'Recall', 'F1_score', 'Log_loss', 'Roc_auc_score', 'Dataset'])"
      ]
     },
     "execution_count": 17,
     "metadata": {},
     "output_type": "execute_result"
    }
   ],
   "source": [
    "my_dict.keys()"
   ]
  },
  {
   "cell_type": "code",
   "execution_count": null,
   "id": "signed-warren",
   "metadata": {},
   "outputs": [],
   "source": []
  }
 ],
 "metadata": {
  "kernelspec": {
   "display_name": "Python 3",
   "language": "python",
   "name": "python3"
  },
  "language_info": {
   "codemirror_mode": {
    "name": "ipython",
    "version": 3
   },
   "file_extension": ".py",
   "mimetype": "text/x-python",
   "name": "python",
   "nbconvert_exporter": "python",
   "pygments_lexer": "ipython3",
   "version": "3.7.9"
  }
 },
 "nbformat": 4,
 "nbformat_minor": 5
}
